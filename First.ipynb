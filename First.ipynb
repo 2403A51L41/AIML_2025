{
 "cells": [
  {
   "cell_type": "markdown",
   "id": "e9398047-817c-4499-8ee0-531be01f1144",
   "metadata": {},
   "source": [
    "# this is my first program\n",
    "## this is my first program\n",
    "### this is my first program\n",
    "#### this is my first program\n",
    "##### this is my first program"
   ]
  },
  {
   "cell_type": "code",
   "execution_count": 2,
   "id": "19de6875-7f7c-4e18-968c-402f7398af74",
   "metadata": {},
   "outputs": [
    {
     "name": "stdout",
     "output_type": "stream",
     "text": [
      "this is my first program\n"
     ]
    }
   ],
   "source": [
    "print(\"this is my first program\")"
   ]
  },
  {
   "cell_type": "code",
   "execution_count": 3,
   "id": "028854be-655d-4239-8a3c-ab96a14fb870",
   "metadata": {},
   "outputs": [],
   "source": [
    "a=\"this is my first program\""
   ]
  },
  {
   "cell_type": "code",
   "execution_count": 4,
   "id": "71860430-0863-42a9-aa77-ebe26ec7b1ac",
   "metadata": {},
   "outputs": [
    {
     "data": {
      "text/plain": [
       "'this is my first program'"
      ]
     },
     "execution_count": 4,
     "metadata": {},
     "output_type": "execute_result"
    }
   ],
   "source": [
    "a"
   ]
  },
  {
   "cell_type": "code",
   "execution_count": null,
   "id": "a08dba24-748d-4bbb-a050-e05a25c894cb",
   "metadata": {},
   "outputs": [],
   "source": []
  }
 ],
 "metadata": {
  "kernelspec": {
   "display_name": "Python 3 (ipykernel)",
   "language": "python",
   "name": "python3"
  },
  "language_info": {
   "codemirror_mode": {
    "name": "ipython",
    "version": 3
   },
   "file_extension": ".py",
   "mimetype": "text/x-python",
   "name": "python",
   "nbconvert_exporter": "python",
   "pygments_lexer": "ipython3",
   "version": "3.12.3"
  }
 },
 "nbformat": 4,
 "nbformat_minor": 5
}
